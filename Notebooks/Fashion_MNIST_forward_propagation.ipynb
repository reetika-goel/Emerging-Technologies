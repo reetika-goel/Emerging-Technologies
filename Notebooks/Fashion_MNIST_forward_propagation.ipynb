{
 "cells": [
  {
   "cell_type": "code",
   "execution_count": 1,
   "metadata": {},
   "outputs": [
    {
     "name": "stderr",
     "output_type": "stream",
     "text": [
      "/Users/sachingupta/anaconda3/lib/python3.6/site-packages/h5py/__init__.py:36: FutureWarning: Conversion of the second argument of issubdtype from `float` to `np.floating` is deprecated. In future, it will be treated as `np.float64 == np.dtype(float).type`.\n",
      "  from ._conv import register_converters as _register_converters\n"
     ]
    }
   ],
   "source": [
    "import numpy as np\n",
    "import tensorflow as tf\n",
    "import sys\n",
    "np.random.seed(1)"
   ]
  },
  {
   "cell_type": "code",
   "execution_count": 2,
   "metadata": {},
   "outputs": [
    {
     "name": "stderr",
     "output_type": "stream",
     "text": [
      "Using TensorFlow backend.\n"
     ]
    },
    {
     "name": "stdout",
     "output_type": "stream",
     "text": [
      "\n",
      "I:0 Test-Acc:0.4562 Train-Acc:0.195\n",
      "I:10 Test-Acc:0.5885 Train-Acc:0.603\n",
      "I:20 Test-Acc:0.6319 Train-Acc:0.635\n",
      "I:30 Test-Acc:0.6586 Train-Acc:0.671\n",
      "I:40 Test-Acc:0.6738 Train-Acc:0.706\n",
      "I:50 Test-Acc:0.6836 Train-Acc:0.714\n",
      "I:60 Test-Acc:0.6973 Train-Acc:0.736\n",
      "I:70 Test-Acc:0.7161 Train-Acc:0.754\n",
      "I:80 Test-Acc:0.7318 Train-Acc:0.771\n",
      "I:90 Test-Acc:0.7417 Train-Acc:0.788\n",
      "I:100 Test-Acc:0.7507 Train-Acc:0.802\n",
      "I:110 Test-Acc:0.7574 Train-Acc:0.804\n",
      "I:120 Test-Acc:0.7612 Train-Acc:0.811\n",
      "I:130 Test-Acc:0.7663 Train-Acc:0.819\n",
      "I:140 Test-Acc:0.7712 Train-Acc:0.826\n",
      "I:150 Test-Acc:0.7748 Train-Acc:0.817\n",
      "I:160 Test-Acc:0.7776 Train-Acc:0.834\n",
      "I:170 Test-Acc:0.7795 Train-Acc:0.836\n",
      "I:180 Test-Acc:0.7809 Train-Acc:0.843\n",
      "I:190 Test-Acc:0.7827 Train-Acc:0.861\n",
      "I:200 Test-Acc:0.7838 Train-Acc:0.862\n",
      "I:210 Test-Acc:0.7848 Train-Acc:0.859\n",
      "I:220 Test-Acc:0.7871 Train-Acc:0.867\n",
      "I:230 Test-Acc:0.7885 Train-Acc:0.871\n",
      "I:240 Test-Acc:0.7892 Train-Acc:0.88\n",
      "I:250 Test-Acc:0.7904 Train-Acc:0.861\n",
      "I:260 Test-Acc:0.7905 Train-Acc:0.872\n",
      "I:270 Test-Acc:0.7927 Train-Acc:0.876\n",
      "I:280 Test-Acc:0.7913 Train-Acc:0.87\n",
      "I:290 Test-Acc:0.7933 Train-Acc:0.875"
     ]
    }
   ],
   "source": [
    "from keras.datasets import fashion_mnist\n",
    "(x_train, y_train), (x_test, y_test) = fashion_mnist.load_data()\n",
    "\n",
    "images, labels = (x_train[0:1000].reshape(1000,28*28)/255, y_train[0:1000])\n",
    "one_hot_labels = np.zeros((len(labels),10))\n",
    "\n",
    "for i,l in enumerate(labels):\n",
    "    one_hot_labels[i][l] = 1\n",
    "labels = one_hot_labels\n",
    "\n",
    "test_images = x_test.reshape(len(x_test), 28*28)/255\n",
    "test_labels = np.zeros((len(y_test),10))\n",
    "\n",
    "for i,l in enumerate(y_test):\n",
    "    test_labels[i][l] = 1\n",
    "    \n",
    "def tanh(x):\n",
    "    return np.tanh(x)\n",
    "\n",
    "def tanh2deriv(output):\n",
    "    return 1-(output**2)\n",
    "\n",
    "def softmax(x):\n",
    "    temp = np.exp(x)\n",
    "    return temp/np.sum(temp, axis=1, keepdims=True)\n",
    "\n",
    "alpha, iterations, hidden_size = (2, 300, 100)\n",
    "pixels_per_image, num_labels = (784, 10)\n",
    "batch_size = 100\n",
    "    \n",
    "weights_0_1 = 0.02*np.random.random((pixels_per_image, hidden_size))-0.01\n",
    "weights_1_2 = 0.2*np.random.random((hidden_size, num_labels))-0.1\n",
    "    \n",
    "for j in range(iterations):\n",
    "    correct_cnt = 0\n",
    "    for i in range(int(len(images)/batch_size)):\n",
    "        batch_start, batch_end = ((i*batch_size), ((i+1)*batch_size))\n",
    "        layer_0 = images[batch_start:batch_end]\n",
    "        layer_1 = tanh(np.dot(layer_0, weights_0_1))\n",
    "        dropout_mask = np.random.randint(2, size=layer_1.shape)\n",
    "        layer_1 *= dropout_mask * 2\n",
    "        layer_2 = softmax(np.dot(layer_1, weights_1_2))\n",
    "        \n",
    "        for k in range(batch_size):\n",
    "            correct_cnt += int(np.argmax(layer_2[k:k+1]) == \\\n",
    "                                  np.argmax(labels[batch_start+k:batch_start+k+1]))\n",
    "        layer_2_delta = (labels[batch_start:batch_end]-layer_2)/(batch_size * layer_2.shape[0])\n",
    "        layer_1_delta = layer_2_delta.dot(weights_1_2.T)*tanh2deriv(layer_1)\n",
    "        layer_1_delta *= dropout_mask\n",
    "        \n",
    "        weights_1_2 += alpha * layer_1.T.dot(layer_2_delta)\n",
    "        weights_0_1 += alpha * layer_0.T.dot(layer_1_delta)\n",
    "    test_correct_cnt = 0 \n",
    "        \n",
    "    for i in range(len(test_images)):\n",
    "        layer_0 = test_images[i:i+1]\n",
    "        layer_1 = tanh(np.dot(layer_0, weights_0_1))\n",
    "        layer_2 = np.dot(layer_1, weights_1_2)\n",
    "        test_correct_cnt += int(np.argmax(layer_2) == np.argmax(test_labels[i:i+1]))\n",
    "            \n",
    "    if(j % 10 == 0):\n",
    "        sys.stdout.write(\"\\n\" + \"I:\" + str(j) + \\\n",
    "                             \" Test-Acc:\" + str(test_correct_cnt/float(len(test_images))) + \\\n",
    "                            \" Train-Acc:\" + str(correct_cnt/float(len(images))))"
   ]
  },
  {
   "cell_type": "code",
   "execution_count": 5,
   "metadata": {},
   "outputs": [
    {
     "data": {
      "image/png": "[encoded data removed]",
      "text/plain": [
       "<Figure size 432x288 with 1 Axes>"
      ]
     },
     "metadata": {},
     "output_type": "display_data"
    }
   ],
   "source": [
    "import matplotlib.pyplot as plt\n",
    "\n",
    "plt.imshow(np.reshape(images[11],(28,28)),cmap='gray_r')\n",
    "plt.show()"
   ]
  },
  {
   "cell_type": "code",
   "execution_count": 4,
   "metadata": {},
   "outputs": [
    {
     "data": {
      "image/png": "[encoded data removed]",
      "text/plain": [
       "<Figure size 432x288 with 1 Axes>"
      ]
     },
     "metadata": {},
     "output_type": "display_data"
    }
   ],
   "source": [
    "plt.imshow(np.reshape(images[21],(28,28)),cmap='gray_r')\n",
    "plt.show()"
   ]
  }
 ],
 "metadata": {
  "kernelspec": {
   "display_name": "Python 3",
   "language": "python",
   "name": "python3"
  },
  "language_info": {
   "codemirror_mode": {
    "name": "ipython",
    "version": 3
   },
   "file_extension": ".py",
   "mimetype": "text/x-python",
   "name": "python",
   "nbconvert_exporter": "python",
   "pygments_lexer": "ipython3",
   "version": "3.6.5"
  }
 },
 "nbformat": 4,
 "nbformat_minor": 2
}
